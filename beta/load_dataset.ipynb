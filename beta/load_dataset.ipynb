{
 "cells": [
  {
   "cell_type": "markdown",
   "metadata": {},
   "source": [
    "## Load Dataset\n",
    "To clear all record and load all images to the /dataset.\n",
    "svg_w=960, svg_h=540"
   ]
  },
  {
   "cell_type": "code",
   "execution_count": 11,
   "metadata": {
    "collapsed": false
   },
   "outputs": [
    {
     "name": "stdout",
     "output_type": "stream",
     "text": [
      "[[0, 1, 2, 3], [4, 5, 6, 7], [8, 9]]\n"
     ]
    }
   ],
   "source": [
    "from app.models import Label,Image,Batch, STATUS_CHOICES\n",
    "from django.contrib.auth.models import User\n",
    "import os, fnmatch, uuid, shutil\n",
    "from uuid import uuid4\n",
    "def getbatchlist(filelist):\n",
    "    def chunks(li, n):\n",
    "        \"\"\"Yield successive n-sized chunks from l.\"\"\"\n",
    "        for i in range(0, len(li), n):\n",
    "            yield li[i:i + n]\n",
    "\n",
    "    return list(chunks(filelist, 4))\n",
    "print getbatchlist(range(10))"
   ]
  },
  {
   "cell_type": "code",
   "execution_count": 14,
   "metadata": {
    "collapsed": false
   },
   "outputs": [
    {
     "name": "stdout",
     "output_type": "stream",
     "text": [
      "DELETE ALL RECORDS!!\n",
      "moving to: C:\\Users\\Wasit\\Documents\\GitHub\\visionmarker\\alpha\\visionmarker\\static\\raw\\0dea1b3a-6d2d-460d-bb02-adb294c16c7e.jpg\n",
      "moving to: C:\\Users\\Wasit\\Documents\\GitHub\\visionmarker\\alpha\\visionmarker\\static\\raw\\24040a87-f580-4f80-ac1f-f622e22c6898.jpg\n",
      "moving to: C:\\Users\\Wasit\\Documents\\GitHub\\visionmarker\\alpha\\visionmarker\\static\\raw\\31e822ad-33bd-431c-b316-9ac26c8eb6e8.jpg\n",
      "moving to: C:\\Users\\Wasit\\Documents\\GitHub\\visionmarker\\alpha\\visionmarker\\static\\raw\\3f93002e-b003-466d-97a9-96e8de69062b.jpg\n",
      "moving to: C:\\Users\\Wasit\\Documents\\GitHub\\visionmarker\\alpha\\visionmarker\\static\\raw\\40beb221-a7c6-408f-8aa1-f88133b39866.jpg\n",
      "moving to: C:\\Users\\Wasit\\Documents\\GitHub\\visionmarker\\alpha\\visionmarker\\static\\raw\\4fb26a19-1916-403c-9812-47f827db0602.jpg\n",
      "moving to: C:\\Users\\Wasit\\Documents\\GitHub\\visionmarker\\alpha\\visionmarker\\static\\raw\\752f2073-b400-416f-9ab6-00b12957d3a4.jpg\n",
      "moving to: C:\\Users\\Wasit\\Documents\\GitHub\\visionmarker\\alpha\\visionmarker\\static\\raw\\75ce0b55-5db6-4c4a-9012-4fbbcd2f9154.jpg\n",
      "moving to: C:\\Users\\Wasit\\Documents\\GitHub\\visionmarker\\alpha\\visionmarker\\static\\raw\\b8c38912-b5aa-4efd-9250-e30eb8fc8b7a.jpg\n",
      "moving to: C:\\Users\\Wasit\\Documents\\GitHub\\visionmarker\\alpha\\visionmarker\\static\\raw\\ca7ef3a4-d798-4f01-a3fb-569fdcf47d60.jpg\n"
     ]
    }
   ],
   "source": [
    "#FOR DEBUG ONLY !!!!\n",
    "# Clear all batches and move images from /dataset to /raw\n",
    "print \"DELETE ALL RECORDS!!\"\n",
    "q=Batch.objects.all().delete()\n",
    "static_path = settings.STATICFILES_DIRS[0]\n",
    "raw_path = os.path.join(static_path,'raw')\n",
    "dataset_path = os.path.join(static_path,'dataset')\n",
    "raw_files = fnmatch.filter(os.listdir(dataset_path), '*.jpg')\n",
    "for i in raw_files:\n",
    "        _dst=os.path.join(raw_path, i )\n",
    "        _src=os.path.join(dataset_path,i)\n",
    "        print \"moving to: %s\"%(_dst)\n",
    "        shutil.move(src=_src, dst=_dst)"
   ]
  },
  {
   "cell_type": "code",
   "execution_count": 13,
   "metadata": {
    "collapsed": false,
    "scrolled": true
   },
   "outputs": [
    {
     "name": "stdout",
     "output_type": "stream",
     "text": [
      "batch: BID000039,src: 26e99ff2-2ce2-4bf7-8d02-53c0652aa6d2.jpg, dst: 24040a87-f580-4f80-ac1f-f622e22c6898.jpg\n",
      "batch: BID000039,src: 299bed08-1999-4b2d-89ba-da75ade979f1.jpg, dst: 75ce0b55-5db6-4c4a-9012-4fbbcd2f9154.jpg\n",
      "batch: BID000039,src: 383e1243-3d51-4d14-9c96-fbdb02011a40.jpg, dst: 0dea1b3a-6d2d-460d-bb02-adb294c16c7e.jpg\n",
      "batch: BID000039,src: 43121327-ccd4-4cae-878c-7196b277c0dc.jpg, dst: 40beb221-a7c6-408f-8aa1-f88133b39866.jpg\n",
      "batch: BID000040,src: 686c8663-5374-4bdd-ad5d-26c881cb7308.jpg, dst: 752f2073-b400-416f-9ab6-00b12957d3a4.jpg\n",
      "batch: BID000040,src: 97737281-bd83-4d3f-acf1-0db86134e5c1.jpg, dst: 4fb26a19-1916-403c-9812-47f827db0602.jpg\n",
      "batch: BID000040,src: a0046d97-2685-49cb-825f-7da349051d0e.jpg, dst: 31e822ad-33bd-431c-b316-9ac26c8eb6e8.jpg\n",
      "batch: BID000040,src: ba5d951b-2f35-497a-a07b-31771b1e8f4a.jpg, dst: b8c38912-b5aa-4efd-9250-e30eb8fc8b7a.jpg\n",
      "batch: BID000041,src: c8354ad9-14e4-472f-b0cd-4c7d67741892.jpg, dst: ca7ef3a4-d798-4f01-a3fb-569fdcf47d60.jpg\n",
      "batch: BID000041,src: e7c3d447-eb2a-46f3-a831-e26caf851d6a.jpg, dst: 3f93002e-b003-466d-97a9-96e8de69062b.jpg\n"
     ]
    }
   ],
   "source": [
    "# moving from /raw/i to /dataset/j\n",
    "static_path = settings.STATICFILES_DIRS[0]\n",
    "raw_path = os.path.join(static_path,'raw')\n",
    "dataset_path = os.path.join(static_path,'dataset')\n",
    "raw_files = fnmatch.filter(os.listdir(raw_path), '*.jpg')\n",
    "for chunk in getbatchlist(raw_files):\n",
    "    b=Batch()\n",
    "    b.save()\n",
    "    for i in chunk:        \n",
    "        j=unicode(uuid4())+'.jpg'\n",
    "        print \"batch: %s,src: %s, dst: %s\"%(b,i,j)\n",
    "        Image(batch=b, src_path=j, raw_path=i).save()\n",
    "        _dst=os.path.join(dataset_path,j)\n",
    "        _src=os.path.join(raw_path,i)\n",
    "        \n",
    "        shutil.move(src=_src, dst=_dst)"
   ]
  },
  {
   "cell_type": "code",
   "execution_count": 22,
   "metadata": {
    "collapsed": false
   },
   "outputs": [
    {
     "data": {
      "text/plain": [
       "10"
      ]
     },
     "execution_count": 22,
     "metadata": {},
     "output_type": "execute_result"
    }
   ],
   "source": [
    "x=Batch()\n",
    "x.save()\n",
    "x.id"
   ]
  },
  {
   "cell_type": "code",
   "execution_count": 17,
   "metadata": {
    "collapsed": true
   },
   "outputs": [],
   "source": [
    "x.id"
   ]
  },
  {
   "cell_type": "code",
   "execution_count": 18,
   "metadata": {
    "collapsed": false,
    "scrolled": true
   },
   "outputs": [],
   "source": [
    "x.save()"
   ]
  },
  {
   "cell_type": "code",
   "execution_count": 12,
   "metadata": {
    "collapsed": false,
    "scrolled": true
   },
   "outputs": [],
   "source": [
    "_labeller=MyUser.objects.get(user=User.objects.get(username='mylabeller'))\n",
    "_reviwer=MyUser.objects.get(user=User.objects.get(username='admin'))\n",
    "Batch(reviewer=_reviwer, labeller=_labeller).save()"
   ]
  },
  {
   "cell_type": "code",
   "execution_count": 13,
   "metadata": {
    "collapsed": false
   },
   "outputs": [
    {
     "data": {
      "text/plain": [
       "u'mylabeller'"
      ]
     },
     "execution_count": 13,
     "metadata": {},
     "output_type": "execute_result"
    }
   ],
   "source": [
    "User.objects.all()[1].username"
   ]
  },
  {
   "cell_type": "code",
   "execution_count": 32,
   "metadata": {
    "collapsed": false
   },
   "outputs": [
    {
     "data": {
      "text/plain": [
       "14"
      ]
     },
     "execution_count": 32,
     "metadata": {},
     "output_type": "execute_result"
    }
   ],
   "source": [
    "Batch.objects.filter(status='1').first().id"
   ]
  },
  {
   "cell_type": "code",
   "execution_count": 4,
   "metadata": {
    "collapsed": false
   },
   "outputs": [],
   "source": [
    "import app.models as md\n",
    "u=User.objects.get(username=\"admin\")\n",
    "mu=MyUser.objects.get(user=u)\n",
    "b=Batch.objects.filter(status=md.TAGGING,labeller=mu).first()"
   ]
  },
  {
   "cell_type": "code",
   "execution_count": 10,
   "metadata": {
    "collapsed": false
   },
   "outputs": [
    {
     "name": "stdout",
     "output_type": "stream",
     "text": [
      "foo\n"
     ]
    }
   ],
   "source": [
    "if not b:\n",
    "    print \"foo\"\n",
    "else:\n",
    "    print \"bar\""
   ]
  },
  {
   "cell_type": "code",
   "execution_count": 9,
   "metadata": {
    "collapsed": false
   },
   "outputs": [
    {
     "data": {
      "text/plain": [
       "NoneType"
      ]
     },
     "execution_count": 9,
     "metadata": {},
     "output_type": "execute_result"
    }
   ],
   "source": [
    "type(b)"
   ]
  },
  {
   "cell_type": "code",
   "execution_count": null,
   "metadata": {
    "collapsed": true
   },
   "outputs": [],
   "source": []
  }
 ],
 "metadata": {
  "anaconda-cloud": {},
  "kernelspec": {
   "display_name": "Django Shell-Plus",
   "language": "python",
   "name": "django_extensions"
  },
  "language_info": {
   "codemirror_mode": {
    "name": "ipython",
    "version": 2
   },
   "file_extension": ".py",
   "mimetype": "text/x-python",
   "name": "python",
   "nbconvert_exporter": "python",
   "pygments_lexer": "ipython2",
   "version": "2.7.12"
  }
 },
 "nbformat": 4,
 "nbformat_minor": 1
}
