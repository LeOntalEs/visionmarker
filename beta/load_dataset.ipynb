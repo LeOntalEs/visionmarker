{
 "cells": [
  {
   "cell_type": "markdown",
   "metadata": {},
   "source": [
    "## Load Dataset\n",
    "To clear all record and load all images to the /dataset.\n",
    "svg_w=960, svg_h=540"
   ]
  },
  {
   "cell_type": "code",
   "execution_count": 1,
   "metadata": {
    "collapsed": false
   },
   "outputs": [
    {
     "name": "stdout",
     "output_type": "stream",
     "text": [
      "[[0, 1, 2, 3], [4, 5, 6, 7], [8, 9]]\n"
     ]
    }
   ],
   "source": [
    "from app.models import Label,Image,Batch, Comment, STATUS_CHOICES\n",
    "from django.contrib.auth.models import User\n",
    "import os, fnmatch, uuid, shutil\n",
    "from uuid import uuid4\n",
    "def getbatchlist(filelist):\n",
    "    def chunks(li, n):\n",
    "        \"\"\"Yield successive n-sized chunks from l.\"\"\"\n",
    "        for i in range(0, len(li), n):\n",
    "            yield li[i:i + n]\n",
    "\n",
    "    return list(chunks(filelist, 4))\n",
    "print getbatchlist(range(10))"
   ]
  },
  {
   "cell_type": "code",
   "execution_count": 2,
   "metadata": {
    "collapsed": false
   },
   "outputs": [
    {
     "name": "stdout",
     "output_type": "stream",
     "text": [
      "DELETE ALL RECORDS!!\n",
      "moving to: C:\\Users\\Wasit\\Documents\\GitHub\\visionmarker\\beta\\static\\raw\\23acb209-264c-4dfa-8abe-7db2983fbee5.jpg\n",
      "moving to: C:\\Users\\Wasit\\Documents\\GitHub\\visionmarker\\beta\\static\\raw\\32ae6fc5-a496-4944-abd5-bc2a83027ba2.jpg\n",
      "moving to: C:\\Users\\Wasit\\Documents\\GitHub\\visionmarker\\beta\\static\\raw\\4fd6c0f8-c9d0-43cd-b4aa-12e9b3b6def0.jpg\n",
      "moving to: C:\\Users\\Wasit\\Documents\\GitHub\\visionmarker\\beta\\static\\raw\\673ab7ee-b99b-4f2b-af29-28f230d09089.jpg\n",
      "moving to: C:\\Users\\Wasit\\Documents\\GitHub\\visionmarker\\beta\\static\\raw\\704ccbe8-74f1-497d-803c-aaa4f007f181.jpg\n",
      "moving to: C:\\Users\\Wasit\\Documents\\GitHub\\visionmarker\\beta\\static\\raw\\9d47d40c-c829-4e20-8b5e-1b210fb7a70a.jpg\n",
      "moving to: C:\\Users\\Wasit\\Documents\\GitHub\\visionmarker\\beta\\static\\raw\\a646d15f-244e-4dc9-905b-4eb6752246d7.jpg\n",
      "moving to: C:\\Users\\Wasit\\Documents\\GitHub\\visionmarker\\beta\\static\\raw\\caa8e1cd-4c03-48fb-82e0-e0123b015fdc.jpg\n",
      "moving to: C:\\Users\\Wasit\\Documents\\GitHub\\visionmarker\\beta\\static\\raw\\d4c43c6c-1e06-4e1d-a6dd-38dd377d77df.jpg\n",
      "moving to: C:\\Users\\Wasit\\Documents\\GitHub\\visionmarker\\beta\\static\\raw\\ef436b38-0638-4bac-83ee-c868faf63811.jpg\n"
     ]
    }
   ],
   "source": [
    "#FOR DEBUG ONLY !!!!\n",
    "# Clear all batches and move images from /dataset to /raw\n",
    "print \"DELETE ALL RECORDS!!\"\n",
    "q=Batch.objects.all().delete()\n",
    "static_path = settings.STATICFILES_DIRS[0]\n",
    "raw_path = os.path.join(static_path,'raw')\n",
    "dataset_path = os.path.join(static_path,'dataset')\n",
    "raw_files = fnmatch.filter(os.listdir(dataset_path), '*.jpg')\n",
    "for i in raw_files:\n",
    "        _dst=os.path.join(raw_path, i )\n",
    "        _src=os.path.join(dataset_path,i)\n",
    "        print \"moving to: %s\"%(_dst)\n",
    "        shutil.move(src=_src, dst=_dst)"
   ]
  },
  {
   "cell_type": "code",
   "execution_count": 3,
   "metadata": {
    "collapsed": false,
    "scrolled": true
   },
   "outputs": [
    {
     "name": "stdout",
     "output_type": "stream",
     "text": [
      "batch: BID000045,src: 23acb209-264c-4dfa-8abe-7db2983fbee5.jpg, dst: a820aeee-83a2-4d90-877c-86b77a505dfd.jpg\n",
      "batch: BID000045,src: 32ae6fc5-a496-4944-abd5-bc2a83027ba2.jpg, dst: a60570bb-bf64-485e-a3a3-4ca51923adfb.jpg\n",
      "batch: BID000045,src: 4fd6c0f8-c9d0-43cd-b4aa-12e9b3b6def0.jpg, dst: 25eb4a8a-9d2b-4328-af1c-2b180cb292d8.jpg\n",
      "batch: BID000045,src: 673ab7ee-b99b-4f2b-af29-28f230d09089.jpg, dst: 95ec2f54-80c0-4eae-be7c-c2e7dc10d796.jpg\n",
      "batch: BID000046,src: 704ccbe8-74f1-497d-803c-aaa4f007f181.jpg, dst: 63ba338c-7580-462b-b4fb-e64af805ee2c.jpg\n",
      "batch: BID000046,src: 9d47d40c-c829-4e20-8b5e-1b210fb7a70a.jpg, dst: 89d43a91-6690-4a11-9977-b3c7fb1e1ce4.jpg\n",
      "batch: BID000046,src: a646d15f-244e-4dc9-905b-4eb6752246d7.jpg, dst: 5659f86f-cfa3-492d-bd2e-7e0639bd0886.jpg\n",
      "batch: BID000046,src: caa8e1cd-4c03-48fb-82e0-e0123b015fdc.jpg, dst: 523c09e9-c799-4a6a-8c38-73046ba3606a.jpg\n",
      "batch: BID000047,src: d4c43c6c-1e06-4e1d-a6dd-38dd377d77df.jpg, dst: 77e90079-c543-4bf0-b1d0-9c1e45186b89.jpg\n",
      "batch: BID000047,src: ef436b38-0638-4bac-83ee-c868faf63811.jpg, dst: aa413ea5-e9dc-4b49-bbfc-5165e97def0a.jpg\n"
     ]
    }
   ],
   "source": [
    "# moving from /raw/i to /dataset/j\n",
    "static_path = settings.STATICFILES_DIRS[0]\n",
    "raw_path = os.path.join(static_path,'raw')\n",
    "dataset_path = os.path.join(static_path,'dataset')\n",
    "raw_files = fnmatch.filter(os.listdir(raw_path), '*.jpg')\n",
    "for chunk in getbatchlist(raw_files):\n",
    "    b=Batch()\n",
    "    b.save()\n",
    "    for i in chunk:        \n",
    "        j=unicode(uuid4())+'.jpg'\n",
    "        print \"batch: %s,src: %s, dst: %s\"%(b,i,j)\n",
    "        Image(batch=b, src_path=j, raw_path=i).save()\n",
    "        _dst=os.path.join(dataset_path,j)\n",
    "        _src=os.path.join(raw_path,i)\n",
    "        \n",
    "        shutil.move(src=_src, dst=_dst)"
   ]
  },
  {
   "cell_type": "code",
   "execution_count": null,
   "metadata": {
    "collapsed": true
   },
   "outputs": [],
   "source": []
  }
 ],
 "metadata": {
  "anaconda-cloud": {},
  "kernelspec": {
   "display_name": "Django Shell-Plus",
   "language": "python",
   "name": "django_extensions"
  },
  "language_info": {
   "codemirror_mode": {
    "name": "ipython",
    "version": 2
   },
   "file_extension": ".py",
   "mimetype": "text/x-python",
   "name": "python",
   "nbconvert_exporter": "python",
   "pygments_lexer": "ipython2",
   "version": "2.7.12"
  }
 },
 "nbformat": 4,
 "nbformat_minor": 1
}
