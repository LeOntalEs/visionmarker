{
 "cells": [
  {
   "cell_type": "markdown",
   "metadata": {},
   "source": [
    "## Load Dataset\n",
    "To clear all record and load all images to the /dataset.\n",
    "svg_w=960, svg_h=540"
   ]
  },
  {
   "cell_type": "code",
   "execution_count": 6,
   "metadata": {
    "collapsed": false
   },
   "outputs": [
    {
     "name": "stdout",
     "output_type": "stream",
     "text": [
      "[[0, 1, 2, 3, 4], [5, 6, 7, 8, 9]]\n"
     ]
    }
   ],
   "source": [
    "from app.models import Label,Image,Batch, Comment, STATUS_CHOICES\n",
    "from django.contrib.auth.models import User\n",
    "import os, fnmatch, uuid, shutil\n",
    "from uuid import uuid4\n",
    "def getbatchlist(filelist):\n",
    "    def chunks(li, n):\n",
    "        \"\"\"Yield successive n-sized chunks from l.\"\"\"\n",
    "        for i in range(0, len(li), n):\n",
    "            yield li[i:i + n]\n",
    "\n",
    "    return list(chunks(filelist, 5))\n",
    "print getbatchlist(range(10))"
   ]
  },
  {
   "cell_type": "code",
   "execution_count": 2,
   "metadata": {
    "collapsed": false
   },
   "outputs": [
    {
     "name": "stdout",
     "output_type": "stream",
     "text": [
      "DELETE ALL RECORDS!!\n",
      "moving to: /home/webserver/visionmarker/beta/static/raw/f03cfbd1-41d2-4470-9d17-e7b4d41c0832.jpg\n",
      "moving to: /home/webserver/visionmarker/beta/static/raw/8efcc3be-2012-4cf3-8bb4-bbb5f721caf5.jpg\n",
      "moving to: /home/webserver/visionmarker/beta/static/raw/96ab0079-7f2d-4dec-a3fd-7f2bdbc6f615.jpg\n",
      "moving to: /home/webserver/visionmarker/beta/static/raw/72fc3a48-e371-4c86-8fd1-d8cafa071f8b.jpg\n",
      "moving to: /home/webserver/visionmarker/beta/static/raw/b288e7e8-6425-487f-a8a3-45849fc2183a.jpg\n",
      "moving to: /home/webserver/visionmarker/beta/static/raw/a7ea7de5-559d-428c-aef9-9c21d056a580.jpg\n",
      "moving to: /home/webserver/visionmarker/beta/static/raw/1b2259a8-ec04-48a5-bc21-2d6775ba4acd.jpg\n",
      "moving to: /home/webserver/visionmarker/beta/static/raw/3fb3bb6d-784d-4c45-b6c3-0b9bef1a1917.jpg\n",
      "moving to: /home/webserver/visionmarker/beta/static/raw/0f970b7d-032c-400a-989c-158f2881aa91.jpg\n",
      "moving to: /home/webserver/visionmarker/beta/static/raw/af16047a-b2ff-4e49-8e76-72b0c8857f7c.jpg\n"
     ]
    }
   ],
   "source": [
    "#FOR DEBUG ONLY !!!!\n",
    "# Clear all batches and move images from /dataset to /raw\n",
    "print \"DELETE ALL RECORDS!!\"\n",
    "q=Batch.objects.all().delete()\n",
    "static_path = settings.STATICFILES_DIRS[0]\n",
    "raw_path = os.path.join(static_path,'raw')\n",
    "dataset_path = os.path.join(static_path,'dataset')\n",
    "raw_files = fnmatch.filter(os.listdir(dataset_path), '*.jpg')\n",
    "for i in raw_files:\n",
    "        _dst=os.path.join(raw_path, i )\n",
    "        _src=os.path.join(dataset_path,i)\n",
    "        print \"moving to: %s\"%(_dst)\n",
    "        shutil.move(src=_src, dst=_dst)"
   ]
  },
  {
   "cell_type": "code",
   "execution_count": 7,
   "metadata": {
    "collapsed": false,
    "scrolled": true
   },
   "outputs": [
    {
     "name": "stdout",
     "output_type": "stream",
     "text": [
      "batch: BID000006,src: 20160909062551028_UTC+07.jpg, dst: b55190e0-9a07-43cd-a888-4aeb63aa8c92.jpg\n",
      "batch: BID000006,src: 20160909062609030_UTC+07.jpg, dst: 7446acb1-d021-4708-b495-b4f90658a8e5.jpg\n",
      "batch: BID000006,src: 20160909062549027_UTC+07.jpg, dst: 7fdd69dd-0e72-42aa-a6c5-fb458c356bc0.jpg\n",
      "batch: BID000006,src: 20160909062547030_UTC+07.jpg, dst: 48a1dd09-42e8-4427-a1d9-f56672f87bcc.jpg\n",
      "batch: BID000006,src: 20160909062603030_UTC+07.jpg, dst: 3ce98450-9cd0-4eb1-9d27-46d25abc744a.jpg\n",
      "batch: BID000007,src: 20160909062555027_UTC+07.jpg, dst: 75fc2189-bb05-4cf8-af37-fefbec1a4b89.jpg\n",
      "batch: BID000007,src: 20160909062539029_UTC+07.jpg, dst: 899a9e41-f8fc-446a-9427-c493dad122ff.jpg\n",
      "batch: BID000007,src: 20160909062605031_UTC+07.jpg, dst: dde5ac3a-4042-41ee-a928-5ea7e819258e.jpg\n",
      "batch: BID000007,src: 20160909062607030_UTC+07.jpg, dst: 6d5bda77-bd30-418d-95e6-6ac54482f279.jpg\n",
      "batch: BID000007,src: 20160909062557029_UTC+07.jpg, dst: b3e3b179-055c-4a8d-8e78-8b4191673e70.jpg\n",
      "batch: BID000008,src: 20160909062601031_UTC+07.jpg, dst: 9b7a7832-f248-4949-bcce-19eae14836d7.jpg\n",
      "batch: BID000008,src: 20160909062543028_UTC+07.jpg, dst: cc311e1c-09d3-4adf-a337-78d4616039f2.jpg\n",
      "batch: BID000008,src: 20160909062541029_UTC+07.jpg, dst: 34243141-78fb-4195-a425-310b0b190e7f.jpg\n",
      "batch: BID000008,src: 20160909062545029_UTC+07.jpg, dst: 7f390435-6898-40f9-b8bc-0087123057d0.jpg\n",
      "batch: BID000008,src: 20160909062559032_UTC+07.jpg, dst: 94320968-22b3-4f3f-a644-5b9eac6ed090.jpg\n"
     ]
    }
   ],
   "source": [
    "# moving from /raw/i to /dataset/j\n",
    "static_path = settings.STATICFILES_DIRS[0]\n",
    "raw_path = os.path.join(static_path,'raw')\n",
    "dataset_path = os.path.join(static_path,'dataset')\n",
    "raw_files = fnmatch.filter(os.listdir(raw_path), '*.jpg')\n",
    "for chunk in getbatchlist(raw_files):\n",
    "    b=Batch()\n",
    "    b.save()\n",
    "    for i in chunk:        \n",
    "        j=unicode(uuid4())+'.jpg'\n",
    "        print \"batch: %s,src: %s, dst: %s\"%(b,i,j)\n",
    "        Image(batch=b, src_path=j, raw_path=i).save()\n",
    "        _dst=os.path.join(dataset_path,j)\n",
    "        _src=os.path.join(raw_path,i)\n",
    "        \n",
    "        shutil.move(src=_src, dst=_dst)"
   ]
  },
  {
   "cell_type": "code",
   "execution_count": null,
   "metadata": {
    "collapsed": true
   },
   "outputs": [],
   "source": []
  }
 ],
 "metadata": {
  "anaconda-cloud": {},
  "kernelspec": {
   "display_name": "Django Shell-Plus",
   "language": "python",
   "name": "django_extensions"
  },
  "language_info": {
   "codemirror_mode": {
    "name": "ipython",
    "version": 2
   },
   "file_extension": ".py",
   "mimetype": "text/x-python",
   "name": "python",
   "nbconvert_exporter": "python",
   "pygments_lexer": "ipython2",
   "version": "2.7.12"
  }
 },
 "nbformat": 4,
 "nbformat_minor": 1
}
