{
 "cells": [
  {
   "cell_type": "markdown",
   "metadata": {},
   "source": [
    "## Load Dataset\n",
    "To clear all record and load all images to the /dataset.\n",
    "svg_w=960, svg_h=540"
   ]
  },
  {
   "cell_type": "code",
   "execution_count": 1,
   "metadata": {
    "collapsed": false
   },
   "outputs": [
    {
     "name": "stdout",
     "output_type": "stream",
     "text": [
      "[[0, 1, 2, 3], [4, 5, 6, 7], [8, 9]]\n"
     ]
    }
   ],
   "source": [
    "from app.models import Label,Image,Batch, Comment, STATUS_CHOICES\n",
    "from django.contrib.auth.models import User\n",
    "import os, fnmatch, uuid, shutil\n",
    "from uuid import uuid4\n",
    "def getbatchlist(filelist):\n",
    "    def chunks(li, n):\n",
    "        \"\"\"Yield successive n-sized chunks from l.\"\"\"\n",
    "        for i in range(0, len(li), n):\n",
    "            yield li[i:i + n]\n",
    "\n",
    "    return list(chunks(filelist, 4))\n",
    "print getbatchlist(range(10))"
   ]
  },
  {
   "cell_type": "code",
   "execution_count": 4,
   "metadata": {
    "collapsed": false
   },
   "outputs": [
    {
     "name": "stdout",
     "output_type": "stream",
     "text": [
      "DELETE ALL RECORDS!!\n",
      "moving to: C:\\Users\\Wasit\\Documents\\GitHub\\visionmarker\\beta\\static\\raw\\063f1d66-ddd3-4d78-9821-c1e587f2d18f.jpg\n",
      "moving to: C:\\Users\\Wasit\\Documents\\GitHub\\visionmarker\\beta\\static\\raw\\1212aa23-5250-4e0e-8ecd-0fad72413499.jpg\n",
      "moving to: C:\\Users\\Wasit\\Documents\\GitHub\\visionmarker\\beta\\static\\raw\\1cc2c97e-dc35-4e78-bc31-b4007c7464ee.jpg\n",
      "moving to: C:\\Users\\Wasit\\Documents\\GitHub\\visionmarker\\beta\\static\\raw\\2d9eb338-0a80-4183-8d27-fb7abe137ae7.jpg\n",
      "moving to: C:\\Users\\Wasit\\Documents\\GitHub\\visionmarker\\beta\\static\\raw\\34301500-deca-4798-910f-50d1ffec6b0e.jpg\n",
      "moving to: C:\\Users\\Wasit\\Documents\\GitHub\\visionmarker\\beta\\static\\raw\\34a24d54-68a2-4574-93ea-e6f8118d0754.jpg\n",
      "moving to: C:\\Users\\Wasit\\Documents\\GitHub\\visionmarker\\beta\\static\\raw\\6acd37c7-4d3a-4283-bef6-92d2741d1eb8.jpg\n",
      "moving to: C:\\Users\\Wasit\\Documents\\GitHub\\visionmarker\\beta\\static\\raw\\8f17c8a7-28fb-42f9-a496-57026ad8f8a9.jpg\n",
      "moving to: C:\\Users\\Wasit\\Documents\\GitHub\\visionmarker\\beta\\static\\raw\\b2c7e26a-4789-4a42-983a-3c6c544f373f.jpg\n",
      "moving to: C:\\Users\\Wasit\\Documents\\GitHub\\visionmarker\\beta\\static\\raw\\e093f8db-e718-4253-b8ee-c1895b744e18.jpg\n"
     ]
    }
   ],
   "source": [
    "#FOR DEBUG ONLY !!!!\n",
    "# Clear all batches and move images from /dataset to /raw\n",
    "print \"DELETE ALL RECORDS!!\"\n",
    "q=Batch.objects.all().delete()\n",
    "static_path = settings.STATICFILES_DIRS[0]\n",
    "raw_path = os.path.join(static_path,'raw')\n",
    "dataset_path = os.path.join(static_path,'dataset')\n",
    "raw_files = fnmatch.filter(os.listdir(dataset_path), '*.jpg')\n",
    "for i in raw_files:\n",
    "        _dst=os.path.join(raw_path, i )\n",
    "        _src=os.path.join(dataset_path,i)\n",
    "        print \"moving to: %s\"%(_dst)\n",
    "        shutil.move(src=_src, dst=_dst)"
   ]
  },
  {
   "cell_type": "code",
   "execution_count": 5,
   "metadata": {
    "collapsed": false,
    "scrolled": true
   },
   "outputs": [
    {
     "name": "stdout",
     "output_type": "stream",
     "text": [
      "batch: BID000004,src: 063f1d66-ddd3-4d78-9821-c1e587f2d18f.jpg, dst: af16047a-b2ff-4e49-8e76-72b0c8857f7c.jpg\n",
      "batch: BID000004,src: 1212aa23-5250-4e0e-8ecd-0fad72413499.jpg, dst: a7ea7de5-559d-428c-aef9-9c21d056a580.jpg\n",
      "batch: BID000004,src: 1cc2c97e-dc35-4e78-bc31-b4007c7464ee.jpg, dst: 8efcc3be-2012-4cf3-8bb4-bbb5f721caf5.jpg\n",
      "batch: BID000004,src: 2d9eb338-0a80-4183-8d27-fb7abe137ae7.jpg, dst: f03cfbd1-41d2-4470-9d17-e7b4d41c0832.jpg\n",
      "batch: BID000005,src: 34301500-deca-4798-910f-50d1ffec6b0e.jpg, dst: 72fc3a48-e371-4c86-8fd1-d8cafa071f8b.jpg\n",
      "batch: BID000005,src: 34a24d54-68a2-4574-93ea-e6f8118d0754.jpg, dst: 0f970b7d-032c-400a-989c-158f2881aa91.jpg\n",
      "batch: BID000005,src: 6acd37c7-4d3a-4283-bef6-92d2741d1eb8.jpg, dst: 1b2259a8-ec04-48a5-bc21-2d6775ba4acd.jpg\n",
      "batch: BID000005,src: 8f17c8a7-28fb-42f9-a496-57026ad8f8a9.jpg, dst: 96ab0079-7f2d-4dec-a3fd-7f2bdbc6f615.jpg\n",
      "batch: BID000006,src: b2c7e26a-4789-4a42-983a-3c6c544f373f.jpg, dst: 3fb3bb6d-784d-4c45-b6c3-0b9bef1a1917.jpg\n",
      "batch: BID000006,src: e093f8db-e718-4253-b8ee-c1895b744e18.jpg, dst: b288e7e8-6425-487f-a8a3-45849fc2183a.jpg\n"
     ]
    }
   ],
   "source": [
    "# moving from /raw/i to /dataset/j\n",
    "static_path = settings.STATICFILES_DIRS[0]\n",
    "raw_path = os.path.join(static_path,'raw')\n",
    "dataset_path = os.path.join(static_path,'dataset')\n",
    "raw_files = fnmatch.filter(os.listdir(raw_path), '*.jpg')\n",
    "for chunk in getbatchlist(raw_files):\n",
    "    b=Batch()\n",
    "    b.save()\n",
    "    for i in chunk:        \n",
    "        j=unicode(uuid4())+'.jpg'\n",
    "        print \"batch: %s,src: %s, dst: %s\"%(b,i,j)\n",
    "        Image(batch=b, src_path=j, raw_path=i).save()\n",
    "        _dst=os.path.join(dataset_path,j)\n",
    "        _src=os.path.join(raw_path,i)\n",
    "        \n",
    "        shutil.move(src=_src, dst=_dst)"
   ]
  },
  {
   "cell_type": "code",
   "execution_count": null,
   "metadata": {
    "collapsed": true
   },
   "outputs": [],
   "source": []
  }
 ],
 "metadata": {
  "anaconda-cloud": {},
  "kernelspec": {
   "display_name": "Django Shell-Plus",
   "language": "python",
   "name": "django_extensions"
  },
  "language_info": {
   "codemirror_mode": {
    "name": "ipython",
    "version": 2
   },
   "file_extension": ".py",
   "mimetype": "text/x-python",
   "name": "python",
   "nbconvert_exporter": "python",
   "pygments_lexer": "ipython2",
   "version": "2.7.12"
  }
 },
 "nbformat": 4,
 "nbformat_minor": 1
}
