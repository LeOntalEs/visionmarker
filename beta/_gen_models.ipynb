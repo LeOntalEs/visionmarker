{
 "cells": [
  {
   "cell_type": "markdown",
   "metadata": {},
   "source": [
    "## see test_query.ipynb"
   ]
  },
  {
   "cell_type": "code",
   "execution_count": 2,
   "metadata": {
    "collapsed": false,
    "scrolled": true
   },
   "outputs": [
    {
     "name": "stdout",
     "output_type": "stream",
     "text": [
      "No changes detected\n",
      "\n",
      "Operations to perform:\n",
      "  Apply all migrations: admin, app, auth, contenttypes, sessions\n",
      "Running migrations:\n",
      "  No migrations to apply.\n",
      "\n"
     ]
    }
   ],
   "source": [
    "import os\n",
    "import sys\n",
    "import subprocess\n",
    "ROOT_PATH=os.getcwd()\n",
    "manage = os.path.join(ROOT_PATH , \"manage.py\")\n",
    "print subprocess.check_output([sys.executable, manage, \"makemigrations\",\"--noinput\"])\n",
    "print subprocess.check_output([sys.executable, manage, \"migrate\",\"--noinput\"])"
   ]
  },
  {
   "cell_type": "code",
   "execution_count": 3,
   "metadata": {
    "collapsed": false
   },
   "outputs": [
    {
     "data": {
      "text/plain": [
       "True"
      ]
     },
     "execution_count": 3,
     "metadata": {},
     "output_type": "execute_result"
    }
   ],
   "source": [
    "import pydot\n",
    "import time\n",
    "timestr = time.strftime(\"%y%m%d_%H%M%S\")\n",
    "\n",
    "dotstr=subprocess.check_output([sys.executable, manage, \"graph_models\", \"-a\"])\n",
    "#with  open(\"models.dot\",\"w\") as f:\n",
    "#    f.write(dotstr)\n",
    "#(graph,) = pydot.graph_from_dot_file('models.dot')\n",
    "(graph,) = pydot.graph_from_dot_data(dotstr)\n",
    "graph.write_png(timestr + '.png')\n",
    "#open the png"
   ]
  },
  {
   "cell_type": "code",
   "execution_count": 4,
   "metadata": {
    "collapsed": false,
    "scrolled": true
   },
   "outputs": [
    {
     "data": {
      "text/markdown": [
       "<img src=\"161115_134414.png\",width=60,height=60>"
      ],
      "text/plain": [
       "<IPython.core.display.Markdown object>"
      ]
     },
     "metadata": {},
     "output_type": "display_data"
    }
   ],
   "source": [
    "from IPython.display import display, Markdown, Latex\n",
    "md='''<img src=\"%s\",width=60,height=60>'''%(timestr + '.png')\n",
    "display(Markdown(md))"
   ]
  },
  {
   "cell_type": "code",
   "execution_count": null,
   "metadata": {
    "collapsed": true
   },
   "outputs": [],
   "source": []
  },
  {
   "cell_type": "code",
   "execution_count": null,
   "metadata": {
    "collapsed": true
   },
   "outputs": [],
   "source": []
  },
  {
   "cell_type": "code",
   "execution_count": null,
   "metadata": {
    "collapsed": true
   },
   "outputs": [],
   "source": []
  }
 ],
 "metadata": {
  "anaconda-cloud": {},
  "kernelspec": {
   "display_name": "Python [default]",
   "language": "python",
   "name": "python2"
  },
  "language_info": {
   "codemirror_mode": {
    "name": "ipython",
    "version": 2
   },
   "file_extension": ".py",
   "mimetype": "text/x-python",
   "name": "python",
   "nbconvert_exporter": "python",
   "pygments_lexer": "ipython2",
   "version": "2.7.12"
  }
 },
 "nbformat": 4,
 "nbformat_minor": 1
}
