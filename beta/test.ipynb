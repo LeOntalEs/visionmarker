{
 "cells": [
  {
   "cell_type": "code",
   "execution_count": 3,
   "metadata": {
    "collapsed": false
   },
   "outputs": [],
   "source": [
    "from app.models import Label,Image,Batch, Comment, STATUS_CHOICES\n",
    "from django.contrib.auth.models import User"
   ]
  },
  {
   "cell_type": "code",
   "execution_count": 4,
   "metadata": {
    "collapsed": false
   },
   "outputs": [],
   "source": [
    "b=Batch.objects.all().first()"
   ]
  },
  {
   "cell_type": "code",
   "execution_count": 5,
   "metadata": {
    "collapsed": false
   },
   "outputs": [
    {
     "data": {
      "text/plain": [
       "<Batch: BID000007>"
      ]
     },
     "execution_count": 5,
     "metadata": {},
     "output_type": "execute_result"
    }
   ],
   "source": [
    "b"
   ]
  },
  {
   "cell_type": "code",
   "execution_count": 6,
   "metadata": {
    "collapsed": false
   },
   "outputs": [
    {
     "name": "stdout",
     "output_type": "stream",
     "text": [
      "mylabeller\n"
     ]
    }
   ],
   "source": [
    "if b.labeller:\n",
    "    print b.labeller\n",
    "else:\n",
    "    print \"not found\""
   ]
  },
  {
   "cell_type": "code",
   "execution_count": 15,
   "metadata": {
    "collapsed": false
   },
   "outputs": [
    {
     "data": {
      "text/plain": [
       "<QuerySet [<MyUser: admin>]>"
      ]
     },
     "execution_count": 15,
     "metadata": {},
     "output_type": "execute_result"
    }
   ],
   "source": [
    "MyUser.objects.filter(user__username='admin')"
   ]
  },
  {
   "cell_type": "code",
   "execution_count": 18,
   "metadata": {
    "collapsed": false
   },
   "outputs": [
    {
     "data": {
      "text/plain": [
       "<QuerySet []>"
      ]
     },
     "execution_count": 18,
     "metadata": {},
     "output_type": "execute_result"
    }
   ],
   "source": [
    "Batch.objects.filter(labeller__user__username='mylabeller')"
   ]
  },
  {
   "cell_type": "code",
   "execution_count": 29,
   "metadata": {
    "collapsed": false
   },
   "outputs": [
    {
     "name": "stdout",
     "output_type": "stream",
     "text": [
      "34c84071-abd7-4f01-86e6-3f2dc6c96a0b.jpg, BID000007 is labelled\n",
      "88634d71-c69f-4582-b54c-926719da1020.jpg, BID000007 is labelled\n",
      "54e9550f-5c1f-46d8-b4d5-45899bf0554f.jpg, BID000007 is not labelled\n",
      "25136c78-05f6-422c-9b82-cbbd42deb261.jpg, BID000007 is labelled\n",
      "693a478e-439a-45de-8b20-20f4d0e0f240.jpg, BID000009 is labelled\n",
      "7696acee-37df-4d8c-b85b-30220ac00020.jpg, BID000009 is not labelled\n",
      "4\n"
     ]
    }
   ],
   "source": [
    "total_labelled=0\n",
    "for b in Batch.objects.filter(labeller__user__username='mylabeller'):\n",
    "    for i in b.image_set.all():\n",
    "        if 0<len(i.label_set.all()):\n",
    "            total_labelled=total_labelled+1\n",
    "            print \"%s, %s is labelled\"%(i,b)\n",
    "        else:\n",
    "            print \"%s, %s is not labelled\"%(i,b)\n",
    "print total_labelled"
   ]
  },
  {
   "cell_type": "code",
   "execution_count": null,
   "metadata": {
    "collapsed": true
   },
   "outputs": [],
   "source": []
  }
 ],
 "metadata": {
  "anaconda-cloud": {},
  "kernelspec": {
   "display_name": "Django Shell-Plus",
   "language": "python",
   "name": "django_extensions"
  },
  "language_info": {
   "codemirror_mode": {
    "name": "ipython",
    "version": 2
   },
   "file_extension": ".py",
   "mimetype": "text/x-python",
   "name": "python",
   "nbconvert_exporter": "python",
   "pygments_lexer": "ipython2",
   "version": "2.7.12"
  }
 },
 "nbformat": 4,
 "nbformat_minor": 1
}
