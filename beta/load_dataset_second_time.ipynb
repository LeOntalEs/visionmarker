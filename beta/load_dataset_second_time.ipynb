{
 "cells": [
  {
   "cell_type": "markdown",
   "metadata": {},
   "source": [
    "## Load Dataset\n",
    "To clear all record and load all images to the /dataset.\n",
    "svg_w=960, svg_h=540"
   ]
  },
  {
   "cell_type": "code",
   "execution_count": 1,
   "metadata": {
    "collapsed": false
   },
   "outputs": [
    {
     "name": "stdout",
     "output_type": "stream",
     "text": [
      "[[0, 1, 2, 3, 4], [5, 6, 7, 8, 9]]\n"
     ]
    }
   ],
   "source": [
    "from app.models import Label,Image,Batch, Comment, STATUS_CHOICES\n",
    "from django.contrib.auth.models import User\n",
    "import os, fnmatch, uuid, shutil\n",
    "from uuid import uuid4\n",
    "def getbatchlist(filelist):\n",
    "    def chunks(li, n):\n",
    "        \"\"\"Yield successive n-sized chunks from l.\"\"\"\n",
    "        for i in range(0, len(li), n):\n",
    "            yield li[i:i + n]\n",
    "\n",
    "    return list(chunks(filelist, 5))\n",
    "print getbatchlist(range(10))"
   ]
  },
  {
   "cell_type": "markdown",
   "metadata": {
    "collapsed": false
   },
   "source": [
    "#FOR DEBUG ONLY !!!!\n",
    "# Clear all batches and move images from /dataset to /raw\n",
    "print \"DELETE ALL RECORDS!!\"\n",
    "q=Batch.objects.all().delete()\n",
    "static_path = settings.STATICFILES_DIRS[0]\n",
    "raw_path = os.path.join(static_path,'raw')\n",
    "dataset_path = os.path.join(static_path,'dataset')\n",
    "raw_files = fnmatch.filter(os.listdir(dataset_path), '*.jpg')\n",
    "for i in raw_files:\n",
    "        _dst=os.path.join(raw_path, i )\n",
    "        _src=os.path.join(dataset_path,i)\n",
    "        print \"moving to: %s\"%(_dst)\n",
    "        shutil.move(src=_src, dst=_dst)"
   ]
  },
  {
   "cell_type": "code",
   "execution_count": 2,
   "metadata": {
    "collapsed": false,
    "scrolled": true
   },
   "outputs": [
    {
     "name": "stdout",
     "output_type": "stream",
     "text": [
      "batch: BID000065,src: 20160909062945030_UTC+07.jpg, dst: ec798c70-adcc-423c-a317-e3697a153e78.jpg\n",
      "batch: BID000065,src: 20160909062953027_UTC+07.jpg, dst: 429410e9-fd7f-47cb-a9d3-1aadfa2f3ac7.jpg\n",
      "batch: BID000065,src: 20160909062939026_UTC+07.jpg, dst: 28a01ebc-ccbf-4089-a6a7-8e0377b2214a.jpg\n",
      "batch: BID000065,src: 20160909062957031_UTC+07.jpg, dst: 393afb97-a7a5-499a-8820-504514903e2f.jpg\n",
      "batch: BID000065,src: 20160909062951031_UTC+07.jpg, dst: 6b2ddc9d-d860-4f68-95f6-23aaaa89e23d.jpg\n",
      "batch: BID000066,src: 20160909062925234_UTC+07.jpg, dst: dc149f8c-a50e-46c5-ae69-a6071119f297.jpg\n",
      "batch: BID000066,src: 20160909062955030_UTC+07.jpg, dst: b4d3a149-7d69-4c75-892e-0db51150bc2a.jpg\n",
      "batch: BID000066,src: 20160909062933035_UTC+07.jpg, dst: de8d99e7-b021-4c8e-9efb-dae0afb1f60f.jpg\n",
      "batch: BID000066,src: 20160909062941028_UTC+07.jpg, dst: 1bad7a31-9f72-4cf2-aee9-84ce3a52c8a4.jpg\n",
      "batch: BID000066,src: 20160909062949030_UTC+07.jpg, dst: b1fc1715-0fa1-4742-8194-417f33545274.jpg\n",
      "batch: BID000067,src: 20160909062935047_UTC+07.jpg, dst: 828d3f13-1381-4fe1-a8b0-afabbef911dd.jpg\n",
      "batch: BID000067,src: 20160909062937026_UTC+07.jpg, dst: c71c0616-5690-422f-97b0-8ef310b4525c.jpg\n",
      "batch: BID000067,src: 20160909062929031_UTC+07.jpg, dst: 4ca85446-936b-494f-b708-9dc96a8b3411.jpg\n",
      "batch: BID000067,src: 20160909062943029_UTC+07.jpg, dst: fbc42e82-61cf-425e-8908-765dc130d54e.jpg\n",
      "batch: BID000067,src: 20160909062923030_UTC+07.jpg, dst: 1f0ba6bd-f4a7-498d-896c-093e5300d59f.jpg\n",
      "batch: BID000068,src: 20160909062947025_UTC+07.jpg, dst: 24f1547f-f3bf-41d0-bfc8-5415fb1d2e5e.jpg\n",
      "batch: BID000068,src: 20160909062931031_UTC+07.jpg, dst: 644c64e8-eb85-48a8-9af6-e14a8607b839.jpg\n",
      "batch: BID000068,src: 20160909062927026_UTC+07.jpg, dst: 3fb52a11-e95e-480c-a521-dbe20e49991f.jpg\n"
     ]
    }
   ],
   "source": [
    "# moving from /raw/i to /dataset/j\n",
    "static_path = settings.STATICFILES_DIRS[0]\n",
    "raw_path = os.path.join(static_path,'raw')\n",
    "dataset_path = os.path.join(static_path,'dataset')\n",
    "raw_files = fnmatch.filter(os.listdir(raw_path), '*.jpg')\n",
    "for chunk in getbatchlist(raw_files):\n",
    "    b=Batch()\n",
    "    b.save()\n",
    "    for i in chunk:        \n",
    "        j=unicode(uuid4())+'.jpg'\n",
    "        print \"batch: %s,src: %s, dst: %s\"%(b,i,j)\n",
    "        Image(batch=b, src_path=j, raw_path=i).save()\n",
    "        _dst=os.path.join(dataset_path,j)\n",
    "        _src=os.path.join(raw_path,i)\n",
    "        \n",
    "        shutil.move(src=_src, dst=_dst)"
   ]
  },
  {
   "cell_type": "code",
   "execution_count": null,
   "metadata": {
    "collapsed": true
   },
   "outputs": [],
   "source": []
  }
 ],
 "metadata": {
  "anaconda-cloud": {},
  "kernelspec": {
   "display_name": "Django Shell-Plus",
   "language": "python",
   "name": "django_extensions"
  },
  "language_info": {
   "codemirror_mode": {
    "name": "ipython",
    "version": 2
   },
   "file_extension": ".py",
   "mimetype": "text/x-python",
   "name": "python",
   "nbconvert_exporter": "python",
   "pygments_lexer": "ipython2",
   "version": "2.7.12"
  }
 },
 "nbformat": 4,
 "nbformat_minor": 1
}
