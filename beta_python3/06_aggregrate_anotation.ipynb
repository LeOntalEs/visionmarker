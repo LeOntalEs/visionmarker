{
 "cells": [
  {
   "cell_type": "code",
   "execution_count": 25,
   "metadata": {
    "collapsed": true
   },
   "outputs": [],
   "source": [
    "from django.db.models import Count\n",
    "from django.db.models import Q"
   ]
  },
  {
   "cell_type": "code",
   "execution_count": 26,
   "metadata": {},
   "outputs": [
    {
     "data": {
      "text/plain": [
       "2"
      ]
     },
     "execution_count": 26,
     "metadata": {},
     "output_type": "execute_result"
    }
   ],
   "source": [
    "## total batch\n",
    "Batch.objects.all().count()"
   ]
  },
  {
   "cell_type": "code",
   "execution_count": 27,
   "metadata": {},
   "outputs": [
    {
     "data": {
      "text/plain": [
       "10"
      ]
     },
     "execution_count": 27,
     "metadata": {},
     "output_type": "execute_result"
    }
   ],
   "source": [
    "## total images\n",
    "Image.objects.all().count()"
   ]
  },
  {
   "cell_type": "code",
   "execution_count": 28,
   "metadata": {},
   "outputs": [
    {
     "data": {
      "text/plain": [
       "7"
      ]
     },
     "execution_count": 28,
     "metadata": {},
     "output_type": "execute_result"
    }
   ],
   "source": [
    "## count images that has any label\n",
    "Image.objects.annotate(label_count=Count('label')).filter(label_count__gt=0).count()"
   ]
  },
  {
   "cell_type": "code",
   "execution_count": 29,
   "metadata": {},
   "outputs": [
    {
     "data": {
      "text/plain": [
       "3"
      ]
     },
     "execution_count": 29,
     "metadata": {},
     "output_type": "execute_result"
    }
   ],
   "source": [
    "## total images labelled by \"labeller1\"\n",
    "Image.objects.annotate( label_count=Count('label', distinct=True) )\\\n",
    "    .filter(\n",
    "        Q(label_count__gt=0) & \n",
    "        Q(batch__labeller__user__username=\"labeller1\")\n",
    "    ).count()"
   ]
  },
  {
   "cell_type": "code",
   "execution_count": 57,
   "metadata": {},
   "outputs": [
    {
     "name": "stdout",
     "output_type": "stream",
     "text": [
      "          admin: labelled 00000, reviewed 00000\n",
      "      labeller1: labelled 00003, reviewed 00003\n",
      "      labeller2: labelled 00004, reviewed 00004\n",
      "\n"
     ]
    }
   ],
   "source": [
    "# list of total images labelled by all user\n",
    "msg=\"\"\n",
    "for u in MyUser.objects.all().order_by('user__username'):\n",
    "    n=Image.objects.annotate( label_count=Count('label', distinct=True) )\\\n",
    "    .filter(\n",
    "        Q(label_count__gt=0) & \n",
    "        Q(batch__labeller__user__username=u.user.username)\n",
    "    ).count()\n",
    "    \n",
    "    m=Image.objects.annotate( label_count=Count('label', distinct=True) )\\\n",
    "    .filter(\n",
    "        Q(label_count__gt=0) & \n",
    "        Q(batch__labeller__user__username=u.user.username)\n",
    "    ).count()\n",
    "    \n",
    "    msg+= \"%15s: labelled %05d, reviewed %05d\\n\"%(u,n,m)\n",
    "print msg"
   ]
  },
  {
   "cell_type": "code",
   "execution_count": 61,
   "metadata": {},
   "outputs": [
    {
     "name": "stdout",
     "output_type": "stream",
     "text": [
      "+          admin labelled: 00000, reviewed: 00000\n",
      "+      labeller1 labelled: 00003, reviewed: 00003\n",
      "+      labeller2 labelled: 00004, reviewed: 00004\n",
      "\n"
     ]
    }
   ],
   "source": [
    "# list of total images labelled by all user\n",
    "msg=\"\"\n",
    "for u in MyUser.objects.all().order_by('user__username'):\n",
    "    n=Image.objects.annotate( label_count=Count('label', distinct=True) )\\\n",
    "    .filter(\n",
    "        Q(label_count__gt=0) & \n",
    "        Q(batch__labeller__user__username=u.user.username)\n",
    "    ).count()\n",
    "    \n",
    "    m=Image.objects.annotate( label_count=Count('label', distinct=True) )\\\n",
    "    .filter(\n",
    "        Q(label_count__gt=0) & \n",
    "        Q(batch__labeller__user__username=u.user.username)\n",
    "    ).count()\n",
    "    \n",
    "    msg+= \"+%15s labelled: %5d, reviewed: %5d\\n\"%(u,n,m)\n",
    "print msg"
   ]
  },
  {
   "cell_type": "markdown",
   "metadata": {},
   "source": [
    "## Testing"
   ]
  },
  {
   "cell_type": "code",
   "execution_count": 6,
   "metadata": {},
   "outputs": [
    {
     "name": "stdout",
     "output_type": "stream",
     "text": [
      "labeller1 did 1 label(s) on 15185e10-3d59-4129-b5c4-314fdb228a59.jpg\n",
      "labeller1 did 1 label(s) on 25136c78-05f6-422c-9b82-cbbd42deb261.jpg\n",
      "labeller1 did 1 label(s) on 34c84071-abd7-4f01-86e6-3f2dc6c96a0b.jpg\n",
      "labeller2 did 1 label(s) on 7696acee-37df-4d8c-b85b-30220ac00020.jpg\n",
      "labeller2 did 1 label(s) on 88634d71-c69f-4582-b54c-926719da1020.jpg\n",
      "labeller2 did 1 label(s) on 92506a5f-1f28-482a-98ad-e377c7ddfed3.jpg\n",
      "labeller2 did 2 label(s) on bbd100a5-82e3-4bcd-8213-24d6ad73ffc6.jpg\n"
     ]
    }
   ],
   "source": [
    "for i in Image.objects.annotate(label_count=Count('label')).filter(Q(label_count__gt=0)&Q(batch__labeller__isnull=False)):\n",
    "    print \"%s did %s label(s) on %s\"%(i.batch.labeller, i.label_count, i.raw_path)"
   ]
  },
  {
   "cell_type": "code",
   "execution_count": 7,
   "metadata": {},
   "outputs": [
    {
     "data": {
      "text/plain": [
       "[{'job_count': 1, 'batch__labeller': 2}, {'job_count': 1, 'batch__labeller': 3}]"
      ]
     },
     "execution_count": 7,
     "metadata": {},
     "output_type": "execute_result"
    }
   ],
   "source": [
    "Image.objects.annotate(label_count=Count('label', distinct=True))\\\n",
    "    .filter(Q(label_count__gt=0)&Q(batch__labeller__isnull=False))\\\n",
    "    .values(\"batch__labeller\").annotate(job_count=Count('batch__labeller', distinct=True))"
   ]
  },
  {
   "cell_type": "code",
   "execution_count": 8,
   "metadata": {},
   "outputs": [
    {
     "data": {
      "text/plain": [
       "[{'total': 1, 'labeller': 2}, {'total': 1, 'labeller': 3}]"
      ]
     },
     "execution_count": 8,
     "metadata": {},
     "output_type": "execute_result"
    }
   ],
   "source": [
    "Batch.objects.all().values('labeller').annotate(total=Count('labeller')).order_by('total')"
   ]
  },
  {
   "cell_type": "code",
   "execution_count": 14,
   "metadata": {},
   "outputs": [
    {
     "name": "stdout",
     "output_type": "stream",
     "text": [
      "admin reviewed 1 images\n",
      "labeller1 reviewed 0 images\n",
      "labeller2 reviewed 0 images\n"
     ]
    }
   ],
   "source": [
    "for i in MyUser.objects.annotate(review_done_count=Count('reviewer_batch')):\n",
    "    print \"%s reviewed %s batches\"%(i,i.review_done_count)"
   ]
  },
  {
   "cell_type": "code",
   "execution_count": 16,
   "metadata": {},
   "outputs": [
    {
     "name": "stdout",
     "output_type": "stream",
     "text": [
      "admin reviewed 0 batches\n",
      "labeller1 reviewed 1 batches\n",
      "labeller2 reviewed 1 batches\n"
     ]
    }
   ],
   "source": [
    "for i in MyUser.objects.annotate(review_done_count=Count('labeller_batch')):\n",
    "    print \"%s reviewed %s batches\"%(i,i.review_done_count)"
   ]
  },
  {
   "cell_type": "code",
   "execution_count": 30,
   "metadata": {},
   "outputs": [
    {
     "name": "stdout",
     "output_type": "stream",
     "text": [
      "admin, 0\n",
      "labeller1, 5\n",
      "labeller2, 5\n"
     ]
    }
   ],
   "source": [
    "for i in MyUser.objects.annotate(x=Count('labeller_batch__image')):\n",
    "    print \"%s, %s\"%(i,i.x)"
   ]
  },
  {
   "cell_type": "code",
   "execution_count": 40,
   "metadata": {},
   "outputs": [
    {
     "data": {
      "text/plain": [
       "<django.db.models.fields.related_descriptors.ReverseManyToOneDescriptor at 0x5d2ea90>"
      ]
     },
     "execution_count": 40,
     "metadata": {},
     "output_type": "execute_result"
    }
   ],
   "source": [
    "MyUser.comment_set"
   ]
  },
  {
   "cell_type": "code",
   "execution_count": 41,
   "metadata": {},
   "outputs": [
    {
     "data": {
      "text/plain": [
       "[]"
      ]
     },
     "execution_count": 41,
     "metadata": {},
     "output_type": "execute_result"
    }
   ],
   "source": []
  },
  {
   "cell_type": "code",
   "execution_count": null,
   "metadata": {
    "collapsed": true
   },
   "outputs": [],
   "source": []
  }
 ],
 "metadata": {
  "anaconda-cloud": {},
  "kernelspec": {
   "display_name": "Django Shell-Plus",
   "language": "python",
   "name": "django_extensions"
  },
  "language_info": {
   "codemirror_mode": {
    "name": "ipython",
    "version": 3
   },
   "file_extension": ".py",
   "mimetype": "text/x-python",
   "name": "python",
   "nbconvert_exporter": "python",
   "pygments_lexer": "ipython3",
   "version": "3.6.6"
  }
 },
 "nbformat": 4,
 "nbformat_minor": 1
}
