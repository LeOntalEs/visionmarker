{
 "cells": [
  {
   "cell_type": "markdown",
   "metadata": {},
   "source": [
    "## Load Dataset\n",
    "To clear all record and load all images to the /dataset.\n",
    "svg_w=960, svg_h=540"
   ]
  },
  {
   "cell_type": "code",
   "execution_count": 3,
   "metadata": {},
   "outputs": [],
   "source": [
    "import django\n",
    "from django.conf import settings\n",
    "django.setup()"
   ]
  },
  {
   "cell_type": "code",
   "execution_count": 4,
   "metadata": {},
   "outputs": [
    {
     "name": "stdout",
     "output_type": "stream",
     "text": [
      "[range(0, 5), range(5, 10)]\n"
     ]
    }
   ],
   "source": [
    "from app.models import Label,Image,Batch, Comment, STATUS_CHOICES\n",
    "from django.contrib.auth.models import User\n",
    "import os, fnmatch, uuid, shutil\n",
    "from uuid import uuid4\n",
    "def getbatchlist(filelist):\n",
    "    def chunks(li, n):\n",
    "        \"\"\"Yield successive n-sized chunks from l.\"\"\"\n",
    "        for i in range(0, len(li), n):\n",
    "            yield li[i:i + n]\n",
    "\n",
    "    return list(chunks(filelist, 5))\n",
    "print(getbatchlist(range(10)))"
   ]
  },
  {
   "cell_type": "markdown",
   "metadata": {},
   "source": [
    "#FOR DEBUG ONLY !!!!\n",
    "# Clear all batches and move images from /dataset to /raw\n",
    "print \"DELETE ALL RECORDS!!\"\n",
    "q=Batch.objects.all().delete()\n",
    "static_path = settings.STATICFILES_DIRS[0]\n",
    "raw_path = os.path.join(static_path,'raw')\n",
    "dataset_path = os.path.join(static_path,'dataset')\n",
    "raw_files = fnmatch.filter(os.listdir(dataset_path), '*.jpg')\n",
    "for i in raw_files:\n",
    "        _dst=os.path.join(raw_path, i )\n",
    "        _src=os.path.join(dataset_path,i)\n",
    "        print \"moving to: %s\"%(_dst)\n",
    "        shutil.move(src=_src, dst=_dst)"
   ]
  },
  {
   "cell_type": "code",
   "execution_count": 11,
   "metadata": {
    "scrolled": false
   },
   "outputs": [
    {
     "name": "stdout",
     "output_type": "stream",
     "text": [
      "batch: BID000005,src: 388C9BD3-546C-489D-8FD2-3CE967189503-2607-0000048535E9C9B8.PNG, dst: 41d1fe5c-f9c6-4bc0-80e8-dea24b5b1b17.PNG\n"
     ]
    }
   ],
   "source": [
    "# moving from /raw/i to /dataset/j\n",
    "static_path = settings.STATICFILES_DIRS[0]\n",
    "raw_path = os.path.join(static_path,'raw')\n",
    "dataset_path = os.path.join(static_path,'dataset')\n",
    "raw_files = fnmatch.filter(os.listdir(raw_path), '*.PNG')\n",
    "for chunk in getbatchlist(raw_files):\n",
    "    b=Batch()\n",
    "    b.save()\n",
    "    for i in chunk:        \n",
    "        j=str(uuid4())+'.PNG'\n",
    "        print((\"batch: %s,src: %s, dst: %s\")%(b,i,j))\n",
    "        Image(batch=b, src_path=j, raw_path=i).save()\n",
    "        _dst=os.path.join(dataset_path,j)\n",
    "        _src=os.path.join(raw_path,i)\n",
    "        shutil.move(src=_src, dst=_dst)"
   ]
  },
  {
   "cell_type": "code",
   "execution_count": null,
   "metadata": {
    "collapsed": true
   },
   "outputs": [],
   "source": []
  }
 ],
 "metadata": {
  "anaconda-cloud": {},
  "kernelspec": {
   "display_name": "Python 3",
   "language": "python",
   "name": "python3"
  },
  "language_info": {
   "codemirror_mode": {
    "name": "ipython",
    "version": 3
   },
   "file_extension": ".py",
   "mimetype": "text/x-python",
   "name": "python",
   "nbconvert_exporter": "python",
   "pygments_lexer": "ipython3",
   "version": "3.6.6"
  }
 },
 "nbformat": 4,
 "nbformat_minor": 1
}
