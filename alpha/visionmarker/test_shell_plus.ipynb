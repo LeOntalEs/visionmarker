{
 "cells": [
  {
   "cell_type": "code",
   "execution_count": 24,
   "metadata": {
    "collapsed": true
   },
   "outputs": [],
   "source": [
    "from app.models import Label,Image,Batch, STATUS_CHOICES\n",
    "from django.contrib.auth.models import User"
   ]
  },
  {
   "cell_type": "code",
   "execution_count": 2,
   "metadata": {
    "collapsed": false
   },
   "outputs": [
    {
     "data": {
      "text/plain": [
       "<QuerySet []>"
      ]
     },
     "execution_count": 2,
     "metadata": {},
     "output_type": "execute_result"
    }
   ],
   "source": [
    "Label.objects.all()"
   ]
  },
  {
   "cell_type": "code",
   "execution_count": 3,
   "metadata": {
    "collapsed": false
   },
   "outputs": [
    {
     "data": {
      "text/plain": [
       "'/static/dataset/'"
      ]
     },
     "execution_count": 3,
     "metadata": {},
     "output_type": "execute_result"
    }
   ],
   "source": [
    "settings.STATIC_URL+\"dataset/\""
   ]
  },
  {
   "cell_type": "code",
   "execution_count": 4,
   "metadata": {
    "collapsed": false
   },
   "outputs": [
    {
     "data": {
      "text/plain": [
       "'C:\\\\Users\\\\Wasit\\\\Documents\\\\GitHub\\\\visionmarker\\\\alpha\\\\visionmarker\\\\static'"
      ]
     },
     "execution_count": 4,
     "metadata": {},
     "output_type": "execute_result"
    }
   ],
   "source": [
    "settings.STATICFILES_DIRS[0]"
   ]
  },
  {
   "cell_type": "code",
   "execution_count": 5,
   "metadata": {
    "collapsed": false
   },
   "outputs": [
    {
     "name": "stdout",
     "output_type": "stream",
     "text": [
      "[[0, 1, 2, 3], [4, 5, 6, 7], [8, 9]]\n"
     ]
    }
   ],
   "source": [
    "import os, fnmatch, uuid, shutil\n",
    "from uuid import uuid4\n",
    "def getbatchlist(filelist):\n",
    "    def chunks(li, n):\n",
    "        \"\"\"Yield successive n-sized chunks from l.\"\"\"\n",
    "        for i in range(0, len(li), n):\n",
    "            yield li[i:i + n]\n",
    "\n",
    "    return list(chunks(filelist, 4))\n",
    "print getbatchlist(range(10))"
   ]
  },
  {
   "cell_type": "code",
   "execution_count": 31,
   "metadata": {
    "collapsed": false,
    "scrolled": true
   },
   "outputs": [
    {
     "name": "stdout",
     "output_type": "stream",
     "text": [
      "batch: BID000014,src: 074ce26c-44f6-42ce-b75f-e559ca369209.jpg, dst: 964f1a2d-8030-473e-bee1-ede2b30d6892.jpg\n",
      "batch: BID000014,src: 0cef304f-ca36-4fe4-95f8-3a3622e33de1.jpg, dst: 63ae465d-4b42-4afc-853d-cb2857c55915.jpg\n",
      "batch: BID000014,src: 1431465f-5a13-4d88-abb6-4dd3affaffe7.jpg, dst: 2f5ba672-1ed3-40a8-8fb6-233b7260058f.jpg\n",
      "batch: BID000014,src: 334ac1e9-15b0-4f33-82a3-85432aead1af.jpg, dst: c80f6424-4057-44ea-85ba-0e7f4edacbf2.jpg\n",
      "batch: BID000015,src: 4b189b04-d522-40b4-97a2-ae93153adc70.jpg, dst: 6512e124-6afc-42e6-b314-3fbbea24f385.jpg\n",
      "batch: BID000015,src: 54989583-1c22-41ef-95a6-24dd476e3c56.jpg, dst: c017464c-ec92-4209-874e-c51aac43c5ea.jpg\n",
      "batch: BID000015,src: 99630a52-b3a1-4d85-8da0-252a1c1ced90.jpg, dst: 0fd1e1dd-90f4-4c4b-9f19-fcbfb580328a.jpg\n",
      "batch: BID000015,src: 9e0afff8-de36-4b34-8c4b-5b2d0a834a72.jpg, dst: 34d32ea8-2d04-46af-8b03-be1ab20ef64a.jpg\n",
      "batch: BID000016,src: d0db3d39-0301-4f80-901c-8a45d9d05627.jpg, dst: 302bed1f-e672-47ce-942f-3a82f3e8d1a0.jpg\n",
      "batch: BID000016,src: ec3a7c44-da44-444c-82d8-508209ca03e1.jpg, dst: 6343e121-e201-4f04-b070-3862ceccd5e9.jpg\n"
     ]
    }
   ],
   "source": [
    "# moving from /raw/i to /dataset/j\n",
    "static_path = settings.STATICFILES_DIRS[0]\n",
    "raw_path = os.path.join(static_path,'raw')\n",
    "dataset_path = os.path.join(static_path,'dataset')\n",
    "raw_files = fnmatch.filter(os.listdir(raw_path), '*.jpg')\n",
    "for chunk in getbatchlist(raw_files):\n",
    "    b=Batch()\n",
    "    b.save()\n",
    "    for i in chunk:\n",
    "        print \"batch: %s,src: %s, dst: %s\"%(b,i,j)\n",
    "        j=unicode(uuid4())+'.jpg'\n",
    "        Image(batch=b, src_path=j, raw_path=i).save()\n",
    "        _dst=os.path.join(dataset_path,j)\n",
    "        _src=os.path.join(raw_path,i)\n",
    "        \n",
    "        shutil.move(src=_src, dst=_dst)"
   ]
  },
  {
   "cell_type": "code",
   "execution_count": 30,
   "metadata": {
    "collapsed": false
   },
   "outputs": [
    {
     "name": "stdout",
     "output_type": "stream",
     "text": [
      "src: C:\\Users\\Wasit\\Documents\\GitHub\\visionmarker\\alpha\\visionmarker\\static\\dataset\\21467dae-e439-4b2f-8de2-b37e99d745a5.jpg, dst: C:\\Users\\Wasit\\Documents\\GitHub\\visionmarker\\alpha\\visionmarker\\static\\raw\\ec3a7c44-da44-444c-82d8-508209ca03e1.jpg\n",
      "src: C:\\Users\\Wasit\\Documents\\GitHub\\visionmarker\\alpha\\visionmarker\\static\\dataset\\277d50c0-0fce-4e4f-a8e7-667b58571cf4.jpg, dst: C:\\Users\\Wasit\\Documents\\GitHub\\visionmarker\\alpha\\visionmarker\\static\\raw\\54989583-1c22-41ef-95a6-24dd476e3c56.jpg\n",
      "src: C:\\Users\\Wasit\\Documents\\GitHub\\visionmarker\\alpha\\visionmarker\\static\\dataset\\6233fb6f-58d0-460f-8794-5016b0ed3670.jpg, dst: C:\\Users\\Wasit\\Documents\\GitHub\\visionmarker\\alpha\\visionmarker\\static\\raw\\99630a52-b3a1-4d85-8da0-252a1c1ced90.jpg\n",
      "src: C:\\Users\\Wasit\\Documents\\GitHub\\visionmarker\\alpha\\visionmarker\\static\\dataset\\64844005-0a25-4c46-9702-b3a16445d543.jpg, dst: C:\\Users\\Wasit\\Documents\\GitHub\\visionmarker\\alpha\\visionmarker\\static\\raw\\0cef304f-ca36-4fe4-95f8-3a3622e33de1.jpg\n",
      "src: C:\\Users\\Wasit\\Documents\\GitHub\\visionmarker\\alpha\\visionmarker\\static\\dataset\\7cb00949-6c26-42d9-8cad-6232ee1192e8.jpg, dst: C:\\Users\\Wasit\\Documents\\GitHub\\visionmarker\\alpha\\visionmarker\\static\\raw\\074ce26c-44f6-42ce-b75f-e559ca369209.jpg\n",
      "src: C:\\Users\\Wasit\\Documents\\GitHub\\visionmarker\\alpha\\visionmarker\\static\\dataset\\964f1a2d-8030-473e-bee1-ede2b30d6892.jpg, dst: C:\\Users\\Wasit\\Documents\\GitHub\\visionmarker\\alpha\\visionmarker\\static\\raw\\d0db3d39-0301-4f80-901c-8a45d9d05627.jpg\n",
      "src: C:\\Users\\Wasit\\Documents\\GitHub\\visionmarker\\alpha\\visionmarker\\static\\dataset\\9a28a0a7-0c23-4676-a7cc-6762ea5992ee.jpg, dst: C:\\Users\\Wasit\\Documents\\GitHub\\visionmarker\\alpha\\visionmarker\\static\\raw\\1431465f-5a13-4d88-abb6-4dd3affaffe7.jpg\n",
      "src: C:\\Users\\Wasit\\Documents\\GitHub\\visionmarker\\alpha\\visionmarker\\static\\dataset\\bd08ffa4-918b-4a27-b43f-6079538c0ead.jpg, dst: C:\\Users\\Wasit\\Documents\\GitHub\\visionmarker\\alpha\\visionmarker\\static\\raw\\4b189b04-d522-40b4-97a2-ae93153adc70.jpg\n",
      "src: C:\\Users\\Wasit\\Documents\\GitHub\\visionmarker\\alpha\\visionmarker\\static\\dataset\\c3c854b1-1dd6-4b9d-9ff0-6b8353a1f69f.jpg, dst: C:\\Users\\Wasit\\Documents\\GitHub\\visionmarker\\alpha\\visionmarker\\static\\raw\\334ac1e9-15b0-4f33-82a3-85432aead1af.jpg\n",
      "src: C:\\Users\\Wasit\\Documents\\GitHub\\visionmarker\\alpha\\visionmarker\\static\\dataset\\cef82224-d885-48b8-bad7-9b982cf5860b.jpg, dst: C:\\Users\\Wasit\\Documents\\GitHub\\visionmarker\\alpha\\visionmarker\\static\\raw\\9e0afff8-de36-4b34-8c4b-5b2d0a834a72.jpg\n"
     ]
    }
   ],
   "source": [
    "#FOR DEBUG ONLY !!!!\n",
    "# moving from /dataset to /raw\n",
    "static_path = settings.STATICFILES_DIRS[0]\n",
    "raw_path = os.path.join(static_path,'raw')\n",
    "dataset_path = os.path.join(static_path,'dataset')\n",
    "raw_files = fnmatch.filter(os.listdir(dataset_path), '*.jpg')\n",
    "for b in getbatchlist(raw_files):\n",
    "    for i in b:\n",
    "        _dst=os.path.join(raw_path, unicode(uuid4())+'.jpg' )\n",
    "        _src=os.path.join(dataset_path,i)\n",
    "        print \"src: %s, dst: %s\"%(_src,_dst)\n",
    "        shutil.move(src=_src, dst=_dst)"
   ]
  },
  {
   "cell_type": "code",
   "execution_count": 22,
   "metadata": {
    "collapsed": false
   },
   "outputs": [
    {
     "data": {
      "text/plain": [
       "10"
      ]
     },
     "execution_count": 22,
     "metadata": {},
     "output_type": "execute_result"
    }
   ],
   "source": [
    "x=Batch()\n",
    "x.save()\n",
    "x.id"
   ]
  },
  {
   "cell_type": "code",
   "execution_count": 17,
   "metadata": {
    "collapsed": true
   },
   "outputs": [],
   "source": [
    "x.id"
   ]
  },
  {
   "cell_type": "code",
   "execution_count": 18,
   "metadata": {
    "collapsed": false,
    "scrolled": true
   },
   "outputs": [],
   "source": [
    "x.save()"
   ]
  },
  {
   "cell_type": "code",
   "execution_count": 12,
   "metadata": {
    "collapsed": false,
    "scrolled": true
   },
   "outputs": [],
   "source": [
    "_labeller=MyUser.objects.get(user=User.objects.get(username='mylabeller'))\n",
    "_reviwer=MyUser.objects.get(user=User.objects.get(username='admin'))\n",
    "Batch(reviewer=_reviwer, labeller=_labeller).save()"
   ]
  },
  {
   "cell_type": "code",
   "execution_count": 13,
   "metadata": {
    "collapsed": false
   },
   "outputs": [
    {
     "data": {
      "text/plain": [
       "u'mylabeller'"
      ]
     },
     "execution_count": 13,
     "metadata": {},
     "output_type": "execute_result"
    }
   ],
   "source": [
    "User.objects.all()[1].username"
   ]
  },
  {
   "cell_type": "code",
   "execution_count": 32,
   "metadata": {
    "collapsed": false
   },
   "outputs": [
    {
     "data": {
      "text/plain": [
       "14"
      ]
     },
     "execution_count": 32,
     "metadata": {},
     "output_type": "execute_result"
    }
   ],
   "source": [
    "Batch.objects.filter(status='1').first().id"
   ]
  },
  {
   "cell_type": "code",
   "execution_count": null,
   "metadata": {
    "collapsed": true
   },
   "outputs": [],
   "source": []
  }
 ],
 "metadata": {
  "anaconda-cloud": {},
  "kernelspec": {
   "display_name": "Django Shell-Plus",
   "language": "python",
   "name": "django_extensions"
  },
  "language_info": {
   "codemirror_mode": {
    "name": "ipython",
    "version": 2
   },
   "file_extension": ".py",
   "mimetype": "text/x-python",
   "name": "python",
   "nbconvert_exporter": "python",
   "pygments_lexer": "ipython2",
   "version": "2.7.12"
  }
 },
 "nbformat": 4,
 "nbformat_minor": 1
}
